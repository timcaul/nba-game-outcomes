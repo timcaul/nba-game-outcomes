{
 "cells": [
  {
   "cell_type": "code",
   "execution_count": 1,
   "id": "a9fb17b5",
   "metadata": {},
   "outputs": [],
   "source": [
    "import pandas as pd\n",
    "import math\n",
    "import statistics\n",
    "import copy\n",
    "import matplotlib.pyplot as plt"
   ]
  },
  {
   "cell_type": "code",
   "execution_count": 2,
   "id": "94e496e7",
   "metadata": {},
   "outputs": [],
   "source": [
    "alldata_total = pd.read_csv('/Users/Tim/Downloads/alldata_total.csv')\n",
    "alldata_total = alldata_total.drop(columns=['Unnamed: 0'])"
   ]
  },
  {
   "cell_type": "code",
   "execution_count": 5,
   "id": "90f1b042",
   "metadata": {},
   "outputs": [],
   "source": [
    "getNet(reformat(alldata_total)).to_csv(\"net_alldata.csv\")"
   ]
  },
  {
   "cell_type": "markdown",
   "id": "6a2e5cd5",
   "metadata": {},
   "source": [
    "## Rolling window - best avg correlation"
   ]
  },
  {
   "cell_type": "code",
   "execution_count": 4,
   "id": "f1448766",
   "metadata": {},
   "outputs": [],
   "source": [
    "## Calculating avg correlation with winning and returning average\n",
    "def avgCorr(data):\n",
    "    corr_cols = ['PTS', 'FGM', 'FGA', 'FG_PCT',\n",
    "       'FG3M', 'FG3A', 'FG3_PCT', 'FTM', 'FTA', 'FT_PCT', 'OREB', 'DREB',\n",
    "       'REB', 'AST', 'STL', 'BLK', 'TOV', 'PF', 'PLUS_MINUS', 'OFF_RATING',\n",
    "       'DEF_RATING', 'NET_RATING', 'AST_PCT', 'AST_TOV', 'AST_RATIO',\n",
    "       'OREB_PCT', 'DREB_PCT', 'REB_PCT', 'TM_TOV_PCT', 'EFG_PCT', 'TS_PCT',\n",
    "       'PACE', 'PACE_PER40', 'POSS', 'PIE', 'KEY_DNP',\n",
    "       'GAME_NUMBER','HOME']\n",
    "\n",
    "    corrs = []\n",
    "    for i in range(len(corr_cols)):\n",
    "        temp = data['WL'].corr(data[corr_cols[i]])\n",
    "        corrs.append(temp)\n",
    "    avg = 0\n",
    "    for i in corrs:\n",
    "        avg += abs(i)\n",
    "    return avg/len(corr_cols)"
   ]
  },
  {
   "cell_type": "code",
   "execution_count": 5,
   "id": "1e1c4450",
   "metadata": {},
   "outputs": [],
   "source": [
    "## Calculating average correlation with winning and returning correlations\n",
    "def avgCorr2(data):\n",
    "    corr_cols = ['PTS', 'FGM', 'FGA', 'FG_PCT',\n",
    "       'FG3M', 'FG3A', 'FG3_PCT', 'FTM', 'FTA', 'FT_PCT', 'OREB', 'DREB',\n",
    "       'REB', 'AST', 'STL', 'BLK', 'TOV', 'PF', 'PLUS_MINUS', 'OFF_RATING',\n",
    "       'DEF_RATING', 'NET_RATING', 'AST_PCT', 'AST_TOV', 'AST_RATIO',\n",
    "       'OREB_PCT', 'DREB_PCT', 'REB_PCT', 'TM_TOV_PCT', 'EFG_PCT', 'TS_PCT',\n",
    "       'PACE', 'PACE_PER40', 'POSS', 'PIE', 'KEY_DNP',\n",
    "       'GAME_NUMBER','HOME']\n",
    "\n",
    "    corrs = []\n",
    "    for i in range(len(corr_cols)):\n",
    "        temp = data['WL'].corr(data[corr_cols[i]])\n",
    "        corrs.append(temp)\n",
    "    return corrs"
   ]
  },
  {
   "cell_type": "code",
   "execution_count": 6,
   "id": "2a1d08eb",
   "metadata": {},
   "outputs": [
    {
     "data": {
      "text/plain": [
       "0.25011859748483767"
      ]
     },
     "execution_count": 6,
     "metadata": {},
     "output_type": "execute_result"
    }
   ],
   "source": [
    "avgCorr(alldata_total)"
   ]
  },
  {
   "cell_type": "code",
   "execution_count": 7,
   "id": "6b05644e",
   "metadata": {},
   "outputs": [],
   "source": [
    "## makes net columns, drops other columns, returns avg correlation of net (or top if con=true) columns\n",
    "def avgNetCorr(data, con = False):\n",
    "    nethome = ['PTS', 'FG_PCT',\n",
    "       'FG3M', 'FG3A', 'FG3_PCT', 'FTA', 'OREB', 'DREB',\n",
    "       'REB', 'STL', 'BLK', 'TOV', 'PF', 'OFF_RATING',\n",
    "       'DEF_RATING', \n",
    "       'OREB_PCT', 'DREB_PCT', 'REB_PCT', 'TM_TOV_PCT', 'EFG_PCT', 'TS_PCT',\n",
    "       'PIE', 'KEY_DNP',\n",
    "       'GAME_NUMBER']\n",
    "           \n",
    "    netaway = ['PTS_opp', 'FG_PCT_opp', 'FG3M_opp', 'FG3A_opp',\n",
    "       'FG3_PCT_opp', 'FTA_opp', 'OREB_opp', 'DREB_opp', 'REB_opp', 'STL_opp', 'BLK_opp',\n",
    "       'TOV_opp', 'PF_opp', 'OFF_RATING_opp', 'DEF_RATING_opp',\n",
    "       'OREB_PCT_opp', 'DREB_PCT_opp', 'REB_PCT_opp',\n",
    "       'TM_TOV_PCT_opp', 'EFG_PCT_opp', 'TS_PCT_opp', 'PIE_opp', 'KEY_DNP_opp',\n",
    "       'GAME_NUMBER_opp']\n",
    "    \n",
    "    consider = ['NET_PTS', 'NET_FG_PCT', 'NET_FG3M', 'NET_FG3_PCT', 'NET_DREB', 'NET_REB', 'NET_BLK',\n",
    "               'NET_OFF_RATING', 'NET_DEF_RATING', 'NET_REB_PCT', 'NET_EFG_PCT', 'NET_TS_PCT', 'NET_PIE']\n",
    "    \n",
    "    net_colnames = []\n",
    "\n",
    "    for i in range(len(nethome)):\n",
    "        temp = \"NET_\"+nethome[i]\n",
    "        net_colnames.append(temp)\n",
    "        \n",
    "    alldata_total_net = copy.deepcopy(data)\n",
    "\n",
    "    for i in range(len(net_colnames)):\n",
    "        alldata_total_net[net_colnames[i]] = alldata_total_net[nethome[i]] - alldata_total_net[netaway[i]]\n",
    "\n",
    "    alldata_total_net = alldata_total_net.drop(columns=nethome)\n",
    "    alldata_total_net = alldata_total_net.drop(columns=netaway)\n",
    "    alldata_total_net = alldata_total_net[alldata_total_net['HOME']==1]\n",
    "    \n",
    "    corr_net = ['NET_PTS', 'NET_FG_PCT', 'NET_FG3M', 'NET_FG3A',\n",
    "       'NET_FG3_PCT', 'NET_FTA', 'NET_OREB', 'NET_DREB', 'NET_REB', 'NET_STL',\n",
    "       'NET_BLK', 'NET_TOV', 'NET_PF', 'NET_OFF_RATING', 'NET_DEF_RATING',\n",
    "       'NET_OREB_PCT', 'NET_DREB_PCT', 'NET_REB_PCT', 'NET_TM_TOV_PCT',\n",
    "       'NET_EFG_PCT', 'NET_TS_PCT', 'NET_PIE', 'NET_KEY_DNP',\n",
    "       'NET_GAME_NUMBER']\n",
    "    corrs = []\n",
    "    \n",
    "    if con==False:\n",
    "        for i in range(len(corr_net)):\n",
    "            temp = alldata_total_net['WL'].corr(alldata_total_net[corr_net[i]])\n",
    "            corrs.append(temp)\n",
    "        avg = 0\n",
    "        for i in corrs:\n",
    "            avg += abs(i)\n",
    "        return avg/len(corr_net)\n",
    "    if con==True:\n",
    "        for i in range(len(consider)):\n",
    "            temp = alldata_total_net['WL'].corr(alldata_total_net[consider[i]])\n",
    "            corrs.append(temp)\n",
    "        avg = 0\n",
    "        for i in corrs:\n",
    "            avg += abs(i)\n",
    "        return avg/len(consider)\n",
    "        \n"
   ]
  },
  {
   "cell_type": "code",
   "execution_count": 11,
   "id": "f85c6885",
   "metadata": {},
   "outputs": [
    {
     "data": {
      "text/plain": [
       "0.5818106088128858"
      ]
     },
     "execution_count": 11,
     "metadata": {},
     "output_type": "execute_result"
    }
   ],
   "source": [
    "avgNetCorr(alldata_total, True)"
   ]
  },
  {
   "cell_type": "code",
   "execution_count": 12,
   "id": "7d9e2006",
   "metadata": {},
   "outputs": [],
   "source": [
    "abr = list(alldata_total.TEAM_ABBREVIATION.unique())\n",
    "\n",
    "teams = list(alldata_total.TEAM_NAME.unique())"
   ]
  },
  {
   "cell_type": "code",
   "execution_count": 13,
   "id": "80b2678e",
   "metadata": {},
   "outputs": [],
   "source": [
    "#changes values in df to being average of previous \"length\" games, returns updated dataframe\n",
    "def sliding_window(data, length):\n",
    "    \n",
    "    needed_cols = ['MIN', 'PTS', 'FGM', 'FGA', 'FG_PCT',\n",
    "       'FG3M', 'FG3A', 'FG3_PCT', 'FTM', 'FTA', 'FT_PCT', 'OREB', 'DREB',\n",
    "       'REB', 'AST', 'STL', 'BLK', 'TOV', 'PF', 'PLUS_MINUS', 'OFF_RATING',\n",
    "       'DEF_RATING', 'NET_RATING', 'AST_PCT', 'AST_TOV', 'AST_RATIO',\n",
    "       'OREB_PCT', 'DREB_PCT', 'REB_PCT', 'TM_TOV_PCT', 'EFG_PCT', 'TS_PCT',\n",
    "       'PACE', 'PACE_PER40', 'POSS', 'PIE', 'PTS_opp',\n",
    "       'FG_PCT_opp', 'FG3M_opp', 'FG3A_opp', 'FG3_PCT_opp', 'OREB_opp',\n",
    "       'DREB_opp', 'REB_opp', 'STL_opp', 'BLK_opp', 'TOV_opp', 'PF_opp',\n",
    "       'OFF_RATING_opp', 'DEF_RATING_opp', 'NET_RATING_opp', 'OREB_PCT_opp',\n",
    "       'DREB_PCT_opp', 'REB_PCT_opp', 'TM_TOV_PCT_opp', 'EFG_PCT_opp',\n",
    "       'TS_PCT_opp', 'PIE_opp', 'WIN_PERC']\n",
    "\n",
    "    alldata_avg = copy.deepcopy(data[data['TEAM_ABBREVIATION'] == abr[0]].reset_index(drop=True))\n",
    "    temp = copy.deepcopy(data[data['TEAM_ABBREVIATION'] == abr[0]].reset_index(drop=True))\n",
    "\n",
    "    \n",
    "    #does it for first team, first only up to length, then for rest of data\n",
    "    for i in range(1,(length-1)):\n",
    "        for col in needed_cols:\n",
    "            alldata_avg.loc[i,col] = statistics.mean(temp[col][0:i])\n",
    "\n",
    "\n",
    "    for i in range(length,len(alldata_avg)):\n",
    "        for col in needed_cols:\n",
    "            alldata_avg.loc[i,col] = statistics.mean(temp[col][i-length:i])\n",
    "\n",
    "    alldata_avg = alldata_avg[1:]\n",
    "\n",
    "    ## does it for all other teams\n",
    "    for team in abr[1:]:\n",
    "        temp = copy.deepcopy(alldata_total[alldata_total['TEAM_ABBREVIATION'] == team].reset_index(drop=True))\n",
    "        temp2 = copy.deepcopy(alldata_total[alldata_total['TEAM_ABBREVIATION'] == team].reset_index(drop=True))\n",
    "\n",
    "        for i in range(1,(length-1)):\n",
    "            for col in needed_cols:\n",
    "                temp2.loc[i,col] = statistics.mean(temp[col][0:i])\n",
    "\n",
    "        for i in range(length,len(temp)):\n",
    "            for col in needed_cols:\n",
    "                temp2.loc[i,col] = statistics.mean(temp[col][i-length:i])\n",
    "\n",
    "        alldata_avg = pd.concat([alldata_avg, temp2[1:]]).reset_index(drop=True)\n",
    "    return alldata_avg"
   ]
  },
  {
   "cell_type": "code",
   "execution_count": 14,
   "id": "90d61111",
   "metadata": {},
   "outputs": [],
   "source": [
    "window_corrs = []\n",
    "window_corrs_high = []\n",
    "\n",
    "for i in range(1,83):\n",
    "    temp = sliding_window(alldata_total,i)\n",
    "    window_corrs.append(avgNetCorr(temp))\n",
    "    window_corrs_high.append(avgNetCorr(temp, True))"
   ]
  },
  {
   "cell_type": "code",
   "execution_count": 243,
   "id": "3edf9217",
   "metadata": {
    "scrolled": true
   },
   "outputs": [
    {
     "data": {
      "text/plain": [
       "[0.051127505312719514,\n",
       " 0.07004065403017377,\n",
       " 0.08074016521182718,\n",
       " 0.09056822682366872,\n",
       " 0.09371226502629727,\n",
       " 0.09595286873034355,\n",
       " 0.09890652709243046,\n",
       " 0.10070475229509712,\n",
       " 0.10438346942410182,\n",
       " 0.10587807184505027,\n",
       " 0.10702754378972375,\n",
       " 0.10977119698383249,\n",
       " 0.11060158900742674,\n",
       " 0.11054921288110742,\n",
       " 0.11335386649139269,\n",
       " 0.11425885313075067,\n",
       " 0.11451536870606688,\n",
       " 0.11450230381521702,\n",
       " 0.11651353359838801,\n",
       " 0.11832787157418136,\n",
       " 0.11931903203885824,\n",
       " 0.12005490716939864,\n",
       " 0.11976808730878859,\n",
       " 0.11973163863044822,\n",
       " 0.12117783555066308,\n",
       " 0.12231843489547646,\n",
       " 0.12192321824289876,\n",
       " 0.1219014657041429,\n",
       " 0.12233721592502911,\n",
       " 0.12261840732164568,\n",
       " 0.12352369860562538,\n",
       " 0.1242170451596142,\n",
       " 0.12441043333871943,\n",
       " 0.12502383784761073,\n",
       " 0.12439360759108409,\n",
       " 0.12576231217604503,\n",
       " 0.1253116940342939,\n",
       " 0.12553212796278043,\n",
       " 0.12508821495363417,\n",
       " 0.1254295762767535,\n",
       " 0.1254852504263016,\n",
       " 0.12576969218967507,\n",
       " 0.12567217850777157,\n",
       " 0.12584271033530883,\n",
       " 0.12491747905849004,\n",
       " 0.12504771869858983,\n",
       " 0.12563457456063173,\n",
       " 0.12483088624731091,\n",
       " 0.12505563883992973,\n",
       " 0.1256178342234772,\n",
       " 0.12619855738365884,\n",
       " 0.12573209826586906,\n",
       " 0.1258075730089926,\n",
       " 0.12565479257484177,\n",
       " 0.12426743144942226,\n",
       " 0.12466987149527235,\n",
       " 0.1252056482345352,\n",
       " 0.12475091190431668,\n",
       " 0.12509927378002914,\n",
       " 0.1250576656449232,\n",
       " 0.12482670086601577,\n",
       " 0.12466609032228239,\n",
       " 0.12453724839646851,\n",
       " 0.12467191883430705,\n",
       " 0.12487301794540767,\n",
       " 0.12551803725364363,\n",
       " 0.1249764902002765,\n",
       " 0.1242897152185265,\n",
       " 0.12588101774250768,\n",
       " 0.12466872307716427,\n",
       " 0.12521726871452568,\n",
       " 0.12475190680230686,\n",
       " 0.1254169545395137,\n",
       " 0.12512720477987058,\n",
       " 0.12546959149867862,\n",
       " 0.1242436854125174,\n",
       " 0.12518825589014662,\n",
       " 0.12549061826635582,\n",
       " 0.12446905669390985,\n",
       " 0.12490634848302175,\n",
       " 0.12515095154117067,\n",
       " 0.1246586593175807]"
      ]
     },
     "execution_count": 243,
     "metadata": {},
     "output_type": "execute_result"
    }
   ],
   "source": [
    "window_corrs"
   ]
  },
  {
   "cell_type": "code",
   "execution_count": 244,
   "id": "446bfbbe",
   "metadata": {
    "collapsed": true
   },
   "outputs": [
    {
     "data": {
      "text/plain": [
       "[0.0723385719993948,\n",
       " 0.10056048493949742,\n",
       " 0.1163530411988834,\n",
       " 0.1336167565817244,\n",
       " 0.13888776446398238,\n",
       " 0.14184507959263973,\n",
       " 0.14685110778001947,\n",
       " 0.14958530262822756,\n",
       " 0.15424378935092664,\n",
       " 0.15692555533464733,\n",
       " 0.15836762720090897,\n",
       " 0.1604171413643314,\n",
       " 0.16354626585823667,\n",
       " 0.16219847586941075,\n",
       " 0.16681260323524094,\n",
       " 0.16791879675411103,\n",
       " 0.1676935102254084,\n",
       " 0.16910592828602974,\n",
       " 0.17123412836717428,\n",
       " 0.1740702496034851,\n",
       " 0.17584469201051578,\n",
       " 0.176178502190393,\n",
       " 0.17800052087129326,\n",
       " 0.17616320560304308,\n",
       " 0.1781711293480832,\n",
       " 0.17888857075226602,\n",
       " 0.1786273677067453,\n",
       " 0.17805303281847346,\n",
       " 0.17999100707400453,\n",
       " 0.18032135486252068,\n",
       " 0.18134320930523934,\n",
       " 0.18187717376693546,\n",
       " 0.18337330813029237,\n",
       " 0.183376676567825,\n",
       " 0.18343039163581518,\n",
       " 0.1849875588570257,\n",
       " 0.183419942407549,\n",
       " 0.18366143034722676,\n",
       " 0.18336207655571196,\n",
       " 0.1837887066219342,\n",
       " 0.18397849613077183,\n",
       " 0.18427637659661963,\n",
       " 0.18461209599257208,\n",
       " 0.1851844519965614,\n",
       " 0.18377912615241312,\n",
       " 0.18299788302717787,\n",
       " 0.18396893468684017,\n",
       " 0.18315054427464275,\n",
       " 0.18402568960422527,\n",
       " 0.18366675682057476,\n",
       " 0.18573740523368626,\n",
       " 0.18445152912538526,\n",
       " 0.18466926262077915,\n",
       " 0.18426295104196913,\n",
       " 0.18329146007503846,\n",
       " 0.1830804609636665,\n",
       " 0.1835887104373929,\n",
       " 0.1830958471668168,\n",
       " 0.18351071786734974,\n",
       " 0.18343334873528067,\n",
       " 0.183451939553058,\n",
       " 0.1840662253461608,\n",
       " 0.1827105010761745,\n",
       " 0.18261788742870097,\n",
       " 0.18348938445715987,\n",
       " 0.183812194502399,\n",
       " 0.18394395769340266,\n",
       " 0.1815906355975998,\n",
       " 0.18462243514146798,\n",
       " 0.18264541751129124,\n",
       " 0.1841972346948489,\n",
       " 0.18301174108990856,\n",
       " 0.18384573404626006,\n",
       " 0.18316895073766215,\n",
       " 0.18377576289529024,\n",
       " 0.18112980784624252,\n",
       " 0.18289949593315696,\n",
       " 0.18277509182643004,\n",
       " 0.18272944815733544,\n",
       " 0.1830849399203889,\n",
       " 0.1824817478335972,\n",
       " 0.1827651756927635]"
      ]
     },
     "execution_count": 244,
     "metadata": {},
     "output_type": "execute_result"
    }
   ],
   "source": [
    "window_corrs_high"
   ]
  },
  {
   "cell_type": "code",
   "execution_count": 16,
   "id": "454e0703",
   "metadata": {},
   "outputs": [
    {
     "name": "stdout",
     "output_type": "stream",
     "text": [
      "Max all: 50\n",
      "Max some: 50\n"
     ]
    }
   ],
   "source": [
    "windows = []\n",
    "for i in range(1,83):\n",
    "    windows.append(i)\n",
    "    if window_corrs[i-1] == max(window_corrs):\n",
    "        print(\"Max all:\", i-1)\n",
    "    if window_corrs_high[i-1] == max(window_corrs_high):\n",
    "        print(\"Max some:\", i-1)"
   ]
  },
  {
   "cell_type": "code",
   "execution_count": 19,
   "id": "8091a6f5",
   "metadata": {},
   "outputs": [
    {
     "data": {
      "text/plain": [
       "Text(0.5, 1.0, 'Optimal Sliding Window Length')"
      ]
     },
     "execution_count": 19,
     "metadata": {},
     "output_type": "execute_result"
    },
    {
     "data": {
      "image/png": "[encoded data removed]",
      "text/plain": [
       "<Figure size 432x288 with 1 Axes>"
      ]
     },
     "metadata": {
      "needs_background": "light"
     },
     "output_type": "display_data"
    }
   ],
   "source": [
    "plt.plot(windows, window_corrs)\n",
    "plt.xlabel(\"Window Length\")\n",
    "plt.ylabel(\"Average Correlation\")\n",
    "plt.title(\"Optimal Sliding Window Length\")"
   ]
  },
  {
   "cell_type": "code",
   "execution_count": 18,
   "id": "0252adce",
   "metadata": {},
   "outputs": [
    {
     "data": {
      "text/plain": [
       "[<matplotlib.lines.Line2D at 0x7f7dfa4db340>]"
      ]
     },
     "execution_count": 18,
     "metadata": {},
     "output_type": "execute_result"
    },
    {
     "data": {
      "image/png": "[encoded data removed]",
      "text/plain": [
       "<Figure size 432x288 with 1 Axes>"
      ]
     },
     "metadata": {
      "needs_background": "light"
     },
     "output_type": "display_data"
    }
   ],
   "source": [
    "plt.plot(windows, window_corrs_high)"
   ]
  },
  {
   "cell_type": "markdown",
   "id": "7453d243",
   "metadata": {},
   "source": [
    "## Decay"
   ]
  },
  {
   "cell_type": "code",
   "execution_count": 20,
   "id": "75303222",
   "metadata": {},
   "outputs": [],
   "source": [
    "## calculates exponentially weighted average for all values, using rate as decay rate\n",
    "def ewma(data, rate):\n",
    "    \n",
    "    needed_cols = ['MIN', 'PTS', 'FGM', 'FGA', 'FG_PCT',\n",
    "       'FG3M', 'FG3A', 'FG3_PCT', 'FTM', 'FTA', 'FT_PCT', 'OREB', 'DREB',\n",
    "       'REB', 'AST', 'STL', 'BLK', 'TOV', 'PF', 'PLUS_MINUS', 'OFF_RATING',\n",
    "       'DEF_RATING', 'NET_RATING', 'AST_PCT', 'AST_TOV', 'AST_RATIO',\n",
    "       'OREB_PCT', 'DREB_PCT', 'REB_PCT', 'TM_TOV_PCT', 'EFG_PCT', 'TS_PCT',\n",
    "       'PACE', 'PACE_PER40', 'POSS', 'PIE', 'PTS_opp',\n",
    "       'FG_PCT_opp', 'FG3M_opp', 'FG3A_opp', 'FG3_PCT_opp', 'OREB_opp',\n",
    "       'DREB_opp', 'REB_opp', 'STL_opp', 'BLK_opp', 'TOV_opp', 'PF_opp',\n",
    "       'OFF_RATING_opp', 'DEF_RATING_opp', 'NET_RATING_opp', 'OREB_PCT_opp',\n",
    "       'DREB_PCT_opp', 'REB_PCT_opp', 'TM_TOV_PCT_opp', 'EFG_PCT_opp',\n",
    "       'TS_PCT_opp', 'PIE_opp', 'WIN_PERC']\n",
    "\n",
    "    alldata_avg = copy.deepcopy(data[data['TEAM_ABBREVIATION'] == abr[0]].reset_index(drop=True))\n",
    "    temp = copy.deepcopy(data[data['TEAM_ABBREVIATION'] == abr[0]].reset_index(drop=True))\n",
    "    \n",
    "    #changes row 1 values to row 0 values for first team\n",
    "    for col in needed_cols:\n",
    "        alldata_avg.loc[1,col] = alldata_avg.loc[0,col]\n",
    "\n",
    "    #calculates ewma for first team\n",
    "    for i in range(2,len(alldata_avg)):\n",
    "        for col in needed_cols:    \n",
    "            alldata_avg.loc[i,col] = (temp.loc[i-1,col]*rate) + ((1-rate)*alldata_avg.loc[i-2,col])\n",
    "\n",
    "    #drops first game\n",
    "    alldata_avg = alldata_avg[1:]\n",
    "    \n",
    "    #does the same for rest of teams\n",
    "    for team in abr[1:]:\n",
    "        temp = copy.deepcopy(alldata_total[alldata_total['TEAM_ABBREVIATION'] == team].reset_index(drop=True))\n",
    "        temp2 = copy.deepcopy(alldata_total[alldata_total['TEAM_ABBREVIATION'] == team].reset_index(drop=True))\n",
    "        \n",
    "        for col in needed_cols:\n",
    "            temp.loc[1,col] = temp.loc[0,col]\n",
    "            \n",
    "        for i in range(2,len(temp)):\n",
    "            for col in needed_cols:    \n",
    "                temp.loc[i,col] = (temp2.loc[i-1,col]*rate) + ((1-rate)*temp.loc[i-2,col])\n",
    "\n",
    "\n",
    "        alldata_avg = pd.concat([alldata_avg, temp[1:]]).reset_index(drop=True)\n",
    "    return alldata_avg"
   ]
  },
  {
   "cell_type": "code",
   "execution_count": 124,
   "id": "8d471193",
   "metadata": {},
   "outputs": [],
   "source": [
    "test = ewma(alldata_total, 0.1)"
   ]
  },
  {
   "cell_type": "code",
   "execution_count": 21,
   "id": "0ea8cae3",
   "metadata": {},
   "outputs": [],
   "source": [
    "decay_corrs = []\n",
    "decay_corrs_high = []\n",
    "\n",
    "for i in range(0,100):\n",
    "    r = i/100\n",
    "    temp = ewma(alldata_total,r)\n",
    "    decay_corrs.append(avgNetCorr(temp))\n",
    "    decay_corrs_high.append(avgNetCorr(temp, True))"
   ]
  },
  {
   "cell_type": "code",
   "execution_count": 250,
   "id": "794adc6f",
   "metadata": {
    "scrolled": true
   },
   "outputs": [
    {
     "data": {
      "text/plain": [
       "[0.02527786418079295,\n",
       " 0.07175948057338269,\n",
       " 0.09626624990945516,\n",
       " 0.10553785883893756,\n",
       " 0.10965320858461876,\n",
       " 0.11157009749234897,\n",
       " 0.1123415851643809,\n",
       " 0.11244346760220064,\n",
       " 0.11212874933512157,\n",
       " 0.11154531384942257,\n",
       " 0.11078471503259685,\n",
       " 0.10990597806485032,\n",
       " 0.10894842794724151,\n",
       " 0.10793902949886953,\n",
       " 0.10689675283537671,\n",
       " 0.10583524535534743,\n",
       " 0.10476450798108843,\n",
       " 0.10369197219319598,\n",
       " 0.10262320961667898,\n",
       " 0.10156241225395024,\n",
       " 0.10051272684904483,\n",
       " 0.09947649448130193,\n",
       " 0.09845542705763743,\n",
       " 0.09745074061634508,\n",
       " 0.0964632581876053,\n",
       " 0.09549349054881977,\n",
       " 0.09454170047389775,\n",
       " 0.09360795434850767,\n",
       " 0.09269216391313928,\n",
       " 0.09179412016469157,\n",
       " 0.09091352095172411,\n",
       " 0.0900499934517579,\n",
       " 0.08920311246840541,\n",
       " 0.08837241529936958,\n",
       " 0.08755741378343197,\n",
       " 0.08675760402273759,\n",
       " 0.08597247418770626,\n",
       " 0.0852015107401957,\n",
       " 0.08444420335222362,\n",
       " 0.08370004874982721,\n",
       " 0.08296855367239325,\n",
       " 0.08224923710542319,\n",
       " 0.08154163191793244,\n",
       " 0.08084528601351419,\n",
       " 0.08015976308570333,\n",
       " 0.07948464305299453,\n",
       " 0.07881952223615685,\n",
       " 0.07816401332989807,\n",
       " 0.07751774521210542,\n",
       " 0.07688036262651972,\n",
       " 0.07625152576854613,\n",
       " 0.07563090979875584,\n",
       " 0.07501820430432994,\n",
       " 0.07441311272509157,\n",
       " 0.07381535175775547,\n",
       " 0.07322465074949844,\n",
       " 0.07264075108983904,\n",
       " 0.07206340560804479,\n",
       " 0.07149237798180441,\n",
       " 0.07092744216166653,\n",
       " 0.0703683818147116,\n",
       " 0.0698149897900643,\n",
       " 0.06926706760813606,\n",
       " 0.0687244249748926,\n",
       " 0.06818687932194896,\n",
       " 0.0676542553728874,\n",
       " 0.06712638473585988,\n",
       " 0.06660310552226333,\n",
       " 0.06608426199105473,\n",
       " 0.06556970421809465,\n",
       " 0.06505928778976575,\n",
       " 0.0645528735200027,\n",
       " 0.06405032718978412,\n",
       " 0.06355151930807475,\n",
       " 0.0630563248931615,\n",
       " 0.06256462327329747,\n",
       " 0.0620762979055527,\n",
       " 0.06159123621176534,\n",
       " 0.06110932943049055,\n",
       " 0.06063047248385636,\n",
       " 0.06015456385825426,\n",
       " 0.05968150549781351,\n",
       " 0.059211202709636944,\n",
       " 0.05874356407980413,\n",
       " 0.0582785013991815,\n",
       " 0.057815929598111014,\n",
       " 0.05735576668908505,\n",
       " 0.05689793371654917,\n",
       " 0.05644235471300898,\n",
       " 0.05598895666065177,\n",
       " 0.05553766945772626,\n",
       " 0.055088425888955184,\n",
       " 0.05464116159928511,\n",
       " 0.05419581507030579,\n",
       " 0.0537523275986965,\n",
       " 0.05331064327607956,\n",
       " 0.05287070896968211,\n",
       " 0.05243247430322368,\n",
       " 0.05199589163746288,\n",
       " 0.05156091604984717]"
      ]
     },
     "execution_count": 250,
     "metadata": {},
     "output_type": "execute_result"
    }
   ],
   "source": [
    "decay_corrs"
   ]
  },
  {
   "cell_type": "code",
   "execution_count": 251,
   "id": "5b4ec44c",
   "metadata": {
    "scrolled": true
   },
   "outputs": [
    {
     "data": {
      "text/plain": [
       "[0.024797911540422695,\n",
       " 0.1007615392076239,\n",
       " 0.1362115499551883,\n",
       " 0.1507605521399788,\n",
       " 0.15773892815989426,\n",
       " 0.16129889939039138,\n",
       " 0.16301521069526023,\n",
       " 0.16362565974956686,\n",
       " 0.16352942583461344,\n",
       " 0.16296284612029674,\n",
       " 0.16207450308901716,\n",
       " 0.16096207808252572,\n",
       " 0.15969216606430559,\n",
       " 0.15831159359746616,\n",
       " 0.15685416929805948,\n",
       " 0.15534484992343772,\n",
       " 0.15380238925328932,\n",
       " 0.15224107050128183,\n",
       " 0.15067187164012963,\n",
       " 0.14910327186080669,\n",
       " 0.14754182569462193,\n",
       " 0.14599258300746776,\n",
       " 0.14445940402713509,\n",
       " 0.14294520087337304,\n",
       " 0.14145212615887548,\n",
       " 0.1399817224289532,\n",
       " 0.13853504190445817,\n",
       " 0.1371127432215264,\n",
       " 0.13571517003885988,\n",
       " 0.1343424151535926,\n",
       " 0.1329943729135782,\n",
       " 0.13167078210420252,\n",
       " 0.13037126103927638,\n",
       " 0.12909533624671593,\n",
       " 0.127842465877819,\n",
       " 0.12661205876270484,\n",
       " 0.12540348986970312,\n",
       " 0.12421611279336639,\n",
       " 0.12304926978739122,\n",
       " 0.1219022997699537,\n",
       " 0.1207745446559467,\n",
       " 0.11966535431035906,\n",
       " 0.1185740903672097,\n",
       " 0.11750012911716683,\n",
       " 0.11644286363272194,\n",
       " 0.11540170527131953,\n",
       " 0.1143760846731606,\n",
       " 0.11336545235067243,\n",
       " 0.1123692789501962,\n",
       " 0.11138705525272971,\n",
       " 0.11041829196911086,\n",
       " 0.10946251937546642,\n",
       " 0.10851928682676254,\n",
       " 0.1075881621796175,\n",
       " 0.1066687311499604,\n",
       " 0.105760596626461,\n",
       " 0.10486337795676633,\n",
       " 0.10397671022033236,\n",
       " 0.1031002434989343,\n",
       " 0.10223364215368415,\n",
       " 0.10137658411550857,\n",
       " 0.1005287601944841,\n",
       " 0.09968987341213326,\n",
       " 0.09885963835971977,\n",
       " 0.0980377805846966,\n",
       " 0.09722403600673839,\n",
       " 0.09641815036419323,\n",
       " 0.09561987869130584,\n",
       " 0.09482898482617069,\n",
       " 0.09404524094905752,\n",
       " 0.09326842715049957,\n",
       " 0.09249833102833696,\n",
       " 0.09173474731275327,\n",
       " 0.0909774775182287,\n",
       " 0.0902263296212472,\n",
       " 0.08948111776253777,\n",
       " 0.08874166197259223,\n",
       " 0.08800778791918458,\n",
       " 0.0872793266756119,\n",
       " 0.0865561145083867,\n",
       " 0.08583799268312844,\n",
       " 0.08512480728742938,\n",
       " 0.08441640906950225,\n",
       " 0.08371265329145573,\n",
       " 0.08301339959608536,\n",
       " 0.08231851188611067,\n",
       " 0.08162785821483559,\n",
       " 0.08094131068725524,\n",
       " 0.080258745370677,\n",
       " 0.07958004221396961,\n",
       " 0.07890508497459733,\n",
       " 0.07823376115263708,\n",
       " 0.07756596193101523,\n",
       " 0.07690158212123789,\n",
       " 0.07624052011391988,\n",
       " 0.07558267783344741,\n",
       " 0.07492796069613603,\n",
       " 0.07427627757126518,\n",
       " 0.07362754074439136,\n",
       " 0.07298166588235336]"
      ]
     },
     "execution_count": 251,
     "metadata": {},
     "output_type": "execute_result"
    }
   ],
   "source": [
    "decay_corrs_high"
   ]
  },
  {
   "cell_type": "code",
   "execution_count": 23,
   "id": "d13676a7",
   "metadata": {},
   "outputs": [
    {
     "name": "stdout",
     "output_type": "stream",
     "text": [
      "Max all: 7\n",
      "Max some: 7\n"
     ]
    }
   ],
   "source": [
    "rates = []\n",
    "for i in range(0,100):\n",
    "    rates.append(i)\n",
    "    if decay_corrs[i] == max(decay_corrs):\n",
    "        print(\"Max all:\", i)\n",
    "    if decay_corrs_high[i] == max(decay_corrs_high):\n",
    "        print(\"Max some:\", i)"
   ]
  },
  {
   "cell_type": "code",
   "execution_count": 24,
   "id": "1a9fdfb8",
   "metadata": {},
   "outputs": [
    {
     "data": {
      "text/plain": [
       "Text(0.5, 1.0, 'Optimal EWMA Degree of Mixing')"
      ]
     },
     "execution_count": 24,
     "metadata": {},
     "output_type": "execute_result"
    },
    {
     "data": {
      "image/png": "[encoded data removed]",
      "text/plain": [
       "<Figure size 432x288 with 1 Axes>"
      ]
     },
     "metadata": {
      "needs_background": "light"
     },
     "output_type": "display_data"
    }
   ],
   "source": [
    "plt.plot(rates, decay_corrs)\n",
    "plt.xlabel(\"Degree of Mixing\")\n",
    "plt.ylabel(\"Average Correlation\")\n",
    "plt.title(\"Optimal EWMA Degree of Mixing\")"
   ]
  },
  {
   "cell_type": "code",
   "execution_count": 254,
   "id": "6bbc57d1",
   "metadata": {},
   "outputs": [
    {
     "data": {
      "text/plain": [
       "[<matplotlib.lines.Line2D at 0x7feaa701a5e0>]"
      ]
     },
     "execution_count": 254,
     "metadata": {},
     "output_type": "execute_result"
    },
    {
     "data": {
      "image/png": "[encoded data removed]",
      "text/plain": [
       "<Figure size 432x288 with 1 Axes>"
      ]
     },
     "metadata": {
      "needs_background": "light"
     },
     "output_type": "display_data"
    }
   ],
   "source": [
    "plt.plot(rates, decay_corrs_high)"
   ]
  },
  {
   "cell_type": "code",
   "execution_count": 18,
   "id": "bfd801bc",
   "metadata": {},
   "outputs": [],
   "source": [
    "sliding_window_50 = sliding_window(alldata_total, 50)"
   ]
  },
  {
   "cell_type": "code",
   "execution_count": 19,
   "id": "0984d2c6",
   "metadata": {},
   "outputs": [],
   "source": [
    "ewma_7 = ewma(alldata_total, 0.07)"
   ]
  },
  {
   "cell_type": "code",
   "execution_count": 3,
   "id": "ea59eed5",
   "metadata": {},
   "outputs": [],
   "source": [
    "# reformats data to being 1 row / game\n",
    "def reformat(data):\n",
    "    dataH = data[data['HOME'] == 1] \n",
    "    dataA = data[data['HOME'] == 0] \n",
    "\n",
    "    data1 = pd.merge(dataH, dataA, how=\"inner\", left_on=['GAME_ID'], right_on = ['GAME_ID'])\n",
    "\n",
    "    data1 = data1.sort_values(by='GAME_DATE_x').reset_index(drop=True)\n",
    "    \n",
    "    return data1"
   ]
  },
  {
   "cell_type": "code",
   "execution_count": 21,
   "id": "4c290f24",
   "metadata": {},
   "outputs": [],
   "source": [
    "## calculates net values for each game, drops other columns\n",
    "def getNet(data):\n",
    "    homestats = [\n",
    "     'MIN_x','PTS_x','FGM_x','FGA_x','FG_PCT_x','FG3M_x','FG3A_x','FG3_PCT_x','FTM_x','FTA_x','FT_PCT_x','OREB_x',\n",
    "     'DREB_x','REB_x','AST_x','STL_x','BLK_x','TOV_x','PF_x','PLUS_MINUS_x','OFF_RATING_x','DEF_RATING_x','NET_RATING_x',\n",
    "     'AST_PCT_x','AST_TOV_x','AST_RATIO_x','OREB_PCT_x','DREB_PCT_x','REB_PCT_x','TM_TOV_PCT_x','EFG_PCT_x',\n",
    "     'TS_PCT_x','PACE_x','PACE_PER40_x','POSS_x','PIE_x','KEY_DNP_x','GAME_NUMBER_x','PTS_opp_x',\n",
    "     'FG_PCT_opp_x','FG3M_opp_x','FG3A_opp_x','FG3_PCT_opp_x','OREB_opp_x','DREB_opp_x','REB_opp_x','STL_opp_x',\n",
    "     'BLK_opp_x','TOV_opp_x','PF_opp_x','OFF_RATING_opp_x','DEF_RATING_opp_x','NET_RATING_opp_x','OREB_PCT_opp_x',\n",
    "     'DREB_PCT_opp_x','REB_PCT_opp_x','TM_TOV_PCT_opp_x','EFG_PCT_opp_x','TS_PCT_opp_x','PIE_opp_x','HOME_x',\n",
    "     'WIN_PERC_x', 'FTA_opp_x', 'KEY_DNP_opp_x', 'GAMES_PLAYED_7_x', 'rest_x']\n",
    "\n",
    "    awaystats = [\n",
    "     'MIN_y','PTS_y','FGM_y','FGA_y','FG_PCT_y','FG3M_y','FG3A_y','FG3_PCT_y','FTM_y','FTA_y','FT_PCT_y','OREB_y',\n",
    "     'DREB_y','REB_y','AST_y','STL_y','BLK_y','TOV_y','PF_y','PLUS_MINUS_y','OFF_RATING_y','DEF_RATING_y','NET_RATING_y',\n",
    "     'AST_PCT_y','AST_TOV_y','AST_RATIO_y','OREB_PCT_y','DREB_PCT_y','REB_PCT_y','TM_TOV_PCT_y','EFG_PCT_y',\n",
    "     'TS_PCT_y','PACE_y','PACE_PER40_y','POSS_y','PIE_y','KEY_DNP_y','GAME_NUMBER_y','PTS_opp_y',\n",
    "     'FG_PCT_opp_y','FG3M_opp_y','FG3A_opp_y','FG3_PCT_opp_y','OREB_opp_y','DREB_opp_y','REB_opp_y','STL_opp_y',\n",
    "     'BLK_opp_y','TOV_opp_y','PF_opp_y','OFF_RATING_opp_y','DEF_RATING_opp_y','NET_RATING_opp_y','OREB_PCT_opp_y',\n",
    "     'DREB_PCT_opp_y','REB_PCT_opp_y','TM_TOV_PCT_opp_y','EFG_PCT_opp_y','TS_PCT_opp_y','PIE_opp_y','HOME_y',\n",
    "     'WIN_PERC_y', 'FTA_opp_y', 'KEY_DNP_opp_y', 'GAMES_PLAYED_7_y', 'rest_y']\n",
    "    \n",
    "    net_colnames = []\n",
    "\n",
    "    for i in range(len(homestats)):\n",
    "        temp = \"NET_\"+homestats[i][:-2]\n",
    "        net_colnames.append(temp)\n",
    "        \n",
    "    netData = copy.deepcopy(data)\n",
    "\n",
    "    for i in range(len(net_colnames)):\n",
    "        netData[net_colnames[i]] = netData[homestats[i]] - netData[awaystats[i]]\n",
    "    \n",
    "    netData = netData.drop(columns=homestats)\n",
    "    netData = netData.drop(columns=awaystats)\n",
    "    \n",
    "    return netData"
   ]
  },
  {
   "cell_type": "code",
   "execution_count": 22,
   "id": "d1b446d6",
   "metadata": {},
   "outputs": [],
   "source": [
    "sliding_window_50 = getNet(reformat(sliding_window_50))"
   ]
  },
  {
   "cell_type": "code",
   "execution_count": 26,
   "id": "c4a58c1a",
   "metadata": {},
   "outputs": [],
   "source": [
    "ewma_7 = getNet(reformat(ewma_7))"
   ]
  },
  {
   "cell_type": "code",
   "execution_count": 27,
   "id": "4aeeabac",
   "metadata": {},
   "outputs": [],
   "source": [
    "sliding_window_50.to_csv('sliding_window_50.csv')\n",
    "ewma_7.to_csv('ewma_7.csv')"
   ]
  },
  {
   "cell_type": "code",
   "execution_count": 291,
   "id": "0693c63a",
   "metadata": {},
   "outputs": [],
   "source": [
    "ewma_7.to_csv(\"ewma_7_2.csv\")"
   ]
  }
 ],
 "metadata": {
  "kernelspec": {
   "display_name": "Python 3 (ipykernel)",
   "language": "python",
   "name": "python3"
  },
  "language_info": {
   "codemirror_mode": {
    "name": "ipython",
    "version": 3
   },
   "file_extension": ".py",
   "mimetype": "text/x-python",
   "name": "python",
   "nbconvert_exporter": "python",
   "pygments_lexer": "ipython3",
   "version": "3.9.12"
  }
 },
 "nbformat": 4,
 "nbformat_minor": 5
}
